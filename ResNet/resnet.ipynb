{
 "cells": [
  {
   "cell_type": "markdown",
   "id": "600ae562",
   "metadata": {},
   "source": [
    "\n",
    "# <center><h2>Facial Keypoints Detection with ResNet</h2></center>\n",
    "This notebook demonstrates how to build and train a deep convolutional neural network (ResNet) for facial keypoint detection using PyTorch. We will:\n",
    "\n",
    "1. Load and preprocess the training and test datasets.\n",
    "2. Define custom Dataset classes and DataLoaders.\n",
    "3. Implement a Residual block and assemble a ResNet model.\n",
    "4. Set up loss, optimizer, and learning rate scheduler.\n",
    "5. Write training, validation, and prediction loops (with early stopping).\n",
    "6. Visualize training progress and sample predictions.\n",
    "7. Generate a submission file for Kaggle.\n",
    "\n",
    "---"
   ]
  },
  {
   "cell_type": "markdown",
   "id": "6cbbcaae",
   "metadata": {},
   "source": [
    "## 1. Import Libraries and Load the Datasets\n",
    "\n",
    "We start by importing the necessary Python packages and reading the CSV files into pandas DataFrames.  \n",
    "We will refer to:\n",
    "- `training.csv`: images and keypoint labels for training.  \n",
    "- `test.csv`: images without labels for final submission.  \n",
    "- `IdLookupTable.csv`: mapping to format the submission.\n",
    "\n",
    "---"
   ]
  },
  {
   "cell_type": "code",
   "execution_count": 1,
   "id": "9a48d340",
   "metadata": {},
   "outputs": [
    {
     "name": "stdout",
     "output_type": "stream",
     "text": [
      "Training samples: 7049, Test samples: 1783\n"
     ]
    }
   ],
   "source": [
    "import os\n",
    "import numpy as np\n",
    "import pandas as pd\n",
    "import torch\n",
    "import torch.nn as nn\n",
    "import torch.nn.functional as F\n",
    "import torch.optim as optim\n",
    "from torch.utils.data import DataLoader\n",
    "from sklearn.model_selection import train_test_split\n",
    "import matplotlib.pyplot as plt\n",
    "\n",
    "path = os.path.abspath(os.getcwd())\n",
    "training_data = pd.read_csv(os.path.join(path, 'training.csv'))\n",
    "test_data = pd.read_csv(os.path.join(path, 'test.csv'))\n",
    "sample_submission = pd.read_csv(os.path.join(path, 'SampleSubmission.csv'))\n",
    "id_lookup_table = pd.read_csv(os.path.join(path, 'IdLookupTable.csv'))\n",
    "\n",
    "print(f\"Training samples: {len(training_data)}, Test samples: {len(test_data)}\")"
   ]
  },
  {
   "cell_type": "markdown",
   "id": "53b3939d",
   "metadata": {},
   "source": [
    "## 2. Data Preprocessing\n",
    "\n",
    "- Convert the space‑separated pixel strings into normalized 96×96 arrays.  \n",
    "- Extract keypoint coordinates and normalize / handle missing values.\n",
    "\n",
    "---"
   ]
  },
  {
   "cell_type": "code",
   "execution_count": 2,
   "id": "97aa63f5",
   "metadata": {},
   "outputs": [
    {
     "name": "stdout",
     "output_type": "stream",
     "text": [
      "Train/Val split: 5639 / 1410\n"
     ]
    }
   ],
   "source": [
    "# Extract Image and Keypoints data\n",
    "images = np.array([\n",
    "    np.fromstring(img_str, sep=' ', dtype=np.float32).reshape(96, 96)\n",
    "    for img_str in training_data['Image']\n",
    "]) / 255.0\n",
    "\n",
    "# Extract Image data from test dataset\n",
    "test_images = np.array([\n",
    "    np.fromstring(img_str, sep=' ', dtype=np.float32).reshape(96, 96)\n",
    "    for img_str in test_data['Image']\n",
    "]) / 255.0\n",
    "\n",
    "# Extract keypoints (float32), keep NaNs for missing annotations\n",
    "keypoints = training_data.drop(columns=['Image']).to_numpy(dtype=np.float32)\n",
    "\n",
    "# Shuffle and Split train/validation sets (80/20)\n",
    "X_train, X_val, y_train, y_val = train_test_split(\n",
    "    images, keypoints, test_size=0.2, random_state=42\n",
    ")\n",
    "\n",
    "print(f\"Train/Val split: {X_train.shape[0]} / {X_val.shape[0]}\")"
   ]
  },
  {
   "cell_type": "markdown",
   "id": "2f83b03d",
   "metadata": {},
   "source": [
    "## 3. Define Dataset Classes and DataLoaders\n",
    "\n",
    "We create two custom Dataset classes:\n",
    "1. `FacialKeypointsDataset` for labeled data (train/val).\n",
    "2. `FacialKeypointsTestDataset` for test data.\n",
    "\n",
    "Then wrap them in DataLoader objects for batching.\n",
    "\n",
    "---"
   ]
  },
  {
   "cell_type": "code",
   "execution_count": 3,
   "id": "bee64fe8",
   "metadata": {},
   "outputs": [
    {
     "name": "stdout",
     "output_type": "stream",
     "text": [
      "torch.Size([16, 1, 96, 96]) torch.Size([16, 30])\n"
     ]
    }
   ],
   "source": [
    "class FacialKeypointsDataset(torch.utils.data.Dataset):\n",
    "    def __init__(self, X, y):\n",
    "        self.X = X\n",
    "        self.y = y\n",
    "    def __len__(self):\n",
    "        return len(self.X)\n",
    "    def __getitem__(self, idx):\n",
    "        img = torch.tensor(self.X[idx][None, ...], dtype=torch.float32)\n",
    "        keypts = torch.tensor(self.y[idx], dtype=torch.float32)\n",
    "        return img, keypts\n",
    "\n",
    "class FacialKeypointsTestDataset(torch.utils.data.Dataset):\n",
    "    def __init__(self, X):\n",
    "        self.X = X\n",
    "    def __len__(self):\n",
    "        return len(self.X)\n",
    "    def __getitem__(self, idx):\n",
    "        img = torch.tensor(self.X[idx][None, ...], dtype=torch.float32)\n",
    "        return img\n",
    "    \n",
    "# Create DataLoaders\n",
    "dataloader_train = DataLoader(\n",
    "    FacialKeypointsDataset(X_train, y_train), batch_size=16, shuffle=True\n",
    ")\n",
    "dataloader_val = DataLoader(\n",
    "    FacialKeypointsDataset(X_val, y_val), batch_size=16, shuffle=False\n",
    ")\n",
    "dataloader_test = DataLoader(\n",
    "    FacialKeypointsTestDataset(test_images), batch_size=16, shuffle=False\n",
    ")\n",
    "\n",
    "# Preview a batch\n",
    "imgs, kps = next(iter(dataloader_train))\n",
    "print(imgs.shape, kps.shape)"
   ]
  },
  {
   "cell_type": "markdown",
   "id": "97a2f4e9",
   "metadata": {},
   "source": [
    "## 4. Build a ResNet Model\n",
    "\n",
    "We implement a basic Residual block and stack multiple blocks to form a small ResNet suited for 96×96 grayscale images.  \n",
    "The final fully‑connected layer outputs 30 values (x,y for 15 keypoints).\n",
    "\n",
    "---"
   ]
  },
  {
   "cell_type": "code",
   "execution_count": 4,
   "id": "5a2bc70f",
   "metadata": {},
   "outputs": [
    {
     "name": "stdout",
     "output_type": "stream",
     "text": [
      "ResNet(\n",
      "  (b1): Sequential(\n",
      "    (0): Conv2d(1, 32, kernel_size=(3, 3), stride=(1, 1), padding=(1, 1))\n",
      "    (1): BatchNorm2d(32, eps=1e-05, momentum=0.1, affine=True, track_running_stats=True)\n",
      "    (2): ReLU()\n",
      "    (3): MaxPool2d(kernel_size=3, stride=2, padding=1, dilation=1, ceil_mode=False)\n",
      "  )\n",
      "  (b2): Sequential(\n",
      "    (0): Residual(\n",
      "      (conv1): Conv2d(32, 32, kernel_size=(3, 3), stride=(1, 1), padding=(1, 1))\n",
      "      (conv2): Conv2d(32, 32, kernel_size=(3, 3), stride=(1, 1), padding=(1, 1))\n",
      "      (bn1): BatchNorm2d(32, eps=1e-05, momentum=0.1, affine=True, track_running_stats=True)\n",
      "      (bn2): BatchNorm2d(32, eps=1e-05, momentum=0.1, affine=True, track_running_stats=True)\n",
      "    )\n",
      "    (1): Residual(\n",
      "      (conv1): Conv2d(32, 32, kernel_size=(3, 3), stride=(1, 1), padding=(1, 1))\n",
      "      (conv2): Conv2d(32, 32, kernel_size=(3, 3), stride=(1, 1), padding=(1, 1))\n",
      "      (bn1): BatchNorm2d(32, eps=1e-05, momentum=0.1, affine=True, track_running_stats=True)\n",
      "      (bn2): BatchNorm2d(32, eps=1e-05, momentum=0.1, affine=True, track_running_stats=True)\n",
      "    )\n",
      "  )\n",
      "  (b3): Sequential(\n",
      "    (0): Residual(\n",
      "      (conv1): Conv2d(32, 64, kernel_size=(3, 3), stride=(2, 2), padding=(1, 1))\n",
      "      (conv2): Conv2d(64, 64, kernel_size=(3, 3), stride=(1, 1), padding=(1, 1))\n",
      "      (bn1): BatchNorm2d(64, eps=1e-05, momentum=0.1, affine=True, track_running_stats=True)\n",
      "      (bn2): BatchNorm2d(64, eps=1e-05, momentum=0.1, affine=True, track_running_stats=True)\n",
      "      (conv3): Conv2d(32, 64, kernel_size=(1, 1), stride=(2, 2))\n",
      "    )\n",
      "    (1): Residual(\n",
      "      (conv1): Conv2d(64, 64, kernel_size=(3, 3), stride=(1, 1), padding=(1, 1))\n",
      "      (conv2): Conv2d(64, 64, kernel_size=(3, 3), stride=(1, 1), padding=(1, 1))\n",
      "      (bn1): BatchNorm2d(64, eps=1e-05, momentum=0.1, affine=True, track_running_stats=True)\n",
      "      (bn2): BatchNorm2d(64, eps=1e-05, momentum=0.1, affine=True, track_running_stats=True)\n",
      "    )\n",
      "  )\n",
      "  (b4): Sequential(\n",
      "    (0): Residual(\n",
      "      (conv1): Conv2d(64, 128, kernel_size=(3, 3), stride=(2, 2), padding=(1, 1))\n",
      "      (conv2): Conv2d(128, 128, kernel_size=(3, 3), stride=(1, 1), padding=(1, 1))\n",
      "      (bn1): BatchNorm2d(128, eps=1e-05, momentum=0.1, affine=True, track_running_stats=True)\n",
      "      (bn2): BatchNorm2d(128, eps=1e-05, momentum=0.1, affine=True, track_running_stats=True)\n",
      "      (conv3): Conv2d(64, 128, kernel_size=(1, 1), stride=(2, 2))\n",
      "    )\n",
      "    (1): Residual(\n",
      "      (conv1): Conv2d(128, 128, kernel_size=(3, 3), stride=(1, 1), padding=(1, 1))\n",
      "      (conv2): Conv2d(128, 128, kernel_size=(3, 3), stride=(1, 1), padding=(1, 1))\n",
      "      (bn1): BatchNorm2d(128, eps=1e-05, momentum=0.1, affine=True, track_running_stats=True)\n",
      "      (bn2): BatchNorm2d(128, eps=1e-05, momentum=0.1, affine=True, track_running_stats=True)\n",
      "    )\n",
      "  )\n",
      "  (b5): Sequential(\n",
      "    (0): Residual(\n",
      "      (conv1): Conv2d(128, 256, kernel_size=(3, 3), stride=(2, 2), padding=(1, 1))\n",
      "      (conv2): Conv2d(256, 256, kernel_size=(3, 3), stride=(1, 1), padding=(1, 1))\n",
      "      (bn1): BatchNorm2d(256, eps=1e-05, momentum=0.1, affine=True, track_running_stats=True)\n",
      "      (bn2): BatchNorm2d(256, eps=1e-05, momentum=0.1, affine=True, track_running_stats=True)\n",
      "      (conv3): Conv2d(128, 256, kernel_size=(1, 1), stride=(2, 2))\n",
      "    )\n",
      "    (1): Residual(\n",
      "      (conv1): Conv2d(256, 256, kernel_size=(3, 3), stride=(1, 1), padding=(1, 1))\n",
      "      (conv2): Conv2d(256, 256, kernel_size=(3, 3), stride=(1, 1), padding=(1, 1))\n",
      "      (bn1): BatchNorm2d(256, eps=1e-05, momentum=0.1, affine=True, track_running_stats=True)\n",
      "      (bn2): BatchNorm2d(256, eps=1e-05, momentum=0.1, affine=True, track_running_stats=True)\n",
      "    )\n",
      "  )\n",
      "  (b6): Sequential(\n",
      "    (0): Residual(\n",
      "      (conv1): Conv2d(256, 512, kernel_size=(3, 3), stride=(2, 2), padding=(1, 1))\n",
      "      (conv2): Conv2d(512, 512, kernel_size=(3, 3), stride=(1, 1), padding=(1, 1))\n",
      "      (bn1): BatchNorm2d(512, eps=1e-05, momentum=0.1, affine=True, track_running_stats=True)\n",
      "      (bn2): BatchNorm2d(512, eps=1e-05, momentum=0.1, affine=True, track_running_stats=True)\n",
      "      (conv3): Conv2d(256, 512, kernel_size=(1, 1), stride=(2, 2))\n",
      "    )\n",
      "    (1): Residual(\n",
      "      (conv1): Conv2d(512, 512, kernel_size=(3, 3), stride=(1, 1), padding=(1, 1))\n",
      "      (conv2): Conv2d(512, 512, kernel_size=(3, 3), stride=(1, 1), padding=(1, 1))\n",
      "      (bn1): BatchNorm2d(512, eps=1e-05, momentum=0.1, affine=True, track_running_stats=True)\n",
      "      (bn2): BatchNorm2d(512, eps=1e-05, momentum=0.1, affine=True, track_running_stats=True)\n",
      "    )\n",
      "  )\n",
      "  (pool): AdaptiveAvgPool2d(output_size=(1, 1))\n",
      "  (fc): Linear(in_features=512, out_features=30, bias=True)\n",
      ")\n"
     ]
    }
   ],
   "source": [
    "class Residual(nn.Module):\n",
    "    def __init__(self, in_ch, out_ch, use_1x1conv=False, strides=1):\n",
    "        super().__init__()\n",
    "        self.conv1 = nn.Conv2d(in_ch, out_ch, kernel_size=3, padding=1, stride=strides)\n",
    "        self.conv2 = nn.Conv2d(out_ch, out_ch, kernel_size=3, padding=1)\n",
    "        self.bn1 = nn.BatchNorm2d(out_ch)\n",
    "        self.bn2 = nn.BatchNorm2d(out_ch)\n",
    "        self.conv3 = nn.Conv2d(in_ch, out_ch, kernel_size=1, stride=strides) if use_1x1conv else None\n",
    "    def forward(self, X):\n",
    "        Y = F.relu(self.bn1(self.conv1(X)))\n",
    "        Y = self.bn2(self.conv2(Y))\n",
    "        if self.conv3:\n",
    "            X = self.conv3(X)\n",
    "        return F.relu(Y + X)\n",
    "\n",
    "\n",
    "def resnet_block(in_ch, out_ch, num_residuals, first_block=False):\n",
    "    layers = []\n",
    "    for i in range(num_residuals):\n",
    "        if i == 0 and not first_block:\n",
    "            layers.append(Residual(in_ch, out_ch, use_1x1conv=True, strides=2))\n",
    "        else:\n",
    "            layers.append(Residual(out_ch, out_ch))\n",
    "    return nn.Sequential(*layers)\n",
    "\n",
    "class ResNet(nn.Module):\n",
    "    def __init__(self):\n",
    "        super().__init__()\n",
    "        self.b1 = nn.Sequential(\n",
    "            nn.Conv2d(1,32,3,1,1), nn.BatchNorm2d(32), nn.ReLU(),\n",
    "            nn.MaxPool2d(3,2,1)\n",
    "        )\n",
    "        self.b2 = resnet_block(32,32,2, first_block=True)\n",
    "        self.b3 = resnet_block(32,64,2)\n",
    "        self.b4 = resnet_block(64,128,2)\n",
    "        self.b5 = resnet_block(128,256,2)\n",
    "        self.b6 = resnet_block(256,512,2)\n",
    "        self.pool = nn.AdaptiveAvgPool2d((1,1))\n",
    "        self.fc = nn.Linear(512, 30)\n",
    "    def forward(self, X):\n",
    "        X = self.b1(X)\n",
    "        X = self.b2(X)\n",
    "        X = self.b3(X)\n",
    "        X = self.b4(X)\n",
    "        X = self.b5(X)\n",
    "        X = self.b6(X)\n",
    "        X = self.pool(X).view(-1,512)\n",
    "        return self.fc(X)\n",
    "\n",
    "# Instantiate and move to GPU if available\n",
    "model = ResNet().to(torch.device('cuda' if torch.cuda.is_available() else 'cpu'))\n",
    "print(model)"
   ]
  },
  {
   "cell_type": "markdown",
   "id": "5a7b6e2c",
   "metadata": {},
   "source": [
    "## 5. Loss Function, Optimizer, and Scheduler\n",
    "\n",
    "We define a custom MSE loss that ignores NaNs in the target, then use Adam optimizer with a StepLR scheduler.\n",
    "\n",
    "---"
   ]
  },
  {
   "cell_type": "code",
   "execution_count": 5,
   "id": "127ed74d",
   "metadata": {},
   "outputs": [],
   "source": [
    "class MSELossIgnoreNan(nn.Module):\n",
    "    def forward(self, pred, label):\n",
    "        mask = torch.isfinite(label)\n",
    "        loss = (pred[mask] - label[mask])**2\n",
    "        return loss.mean()\n",
    "\n",
    "criterion = MSELossIgnoreNan()\n",
    "optimizer = optim.Adam(model.parameters(), lr=1e-4)\n",
    "scheduler = optim.lr_scheduler.StepLR(optimizer, step_size=5, gamma=0.1)"
   ]
  },
  {
   "cell_type": "markdown",
   "id": "173ae392",
   "metadata": {},
   "source": [
    "## 6. Training and Validation Routines\n",
    "\n",
    "Define reusable functions for one epoch of training and validation.\n",
    "\n",
    "---"
   ]
  },
  {
   "cell_type": "code",
   "execution_count": 6,
   "id": "aeb37169",
   "metadata": {},
   "outputs": [],
   "source": [
    "def train_one_epoch(model, loader, criterion, optimizer, device):\n",
    "    model.train()\n",
    "    total_loss = 0\n",
    "    for X, y in loader:\n",
    "        X, y = X.to(device), y.to(device)\n",
    "        optimizer.zero_grad()\n",
    "        preds = model(X)\n",
    "        loss = criterion(preds, y)\n",
    "        loss.backward()\n",
    "        optimizer.step()\n",
    "        total_loss += loss.item() * X.size(0)\n",
    "    return total_loss / len(loader.dataset)\n",
    "\n",
    "\n",
    "def validate(model, loader, criterion, device):\n",
    "    model.eval()\n",
    "    total_loss = 0\n",
    "    with torch.no_grad():\n",
    "        for X, y in loader:\n",
    "            X, y = X.to(device), y.to(device)\n",
    "            preds = model(X)\n",
    "            loss = criterion(preds, y)\n",
    "            total_loss += loss.item() * X.size(0)\n",
    "    return total_loss / len(loader.dataset)"
   ]
  },
  {
   "cell_type": "markdown",
   "id": "2708c9c0",
   "metadata": {},
   "source": [
    "## 7. Training Loop with Early Stopping\n",
    "\n",
    "Train for up to 100 epochs, saving the best model by validation loss and stopping if no improvement for 5 epochs.\n",
    "\n",
    "---"
   ]
  },
  {
   "cell_type": "code",
   "execution_count": null,
   "id": "e6a4bdcd",
   "metadata": {},
   "outputs": [
    {
     "name": "stdout",
     "output_type": "stream",
     "text": [
      "Using device: cuda\n",
      "Epoch 1: train=405.7132, val=13.7431\n",
      "Epoch 2: train=11.4242, val=9.2995\n",
      "Epoch 3: train=8.6611, val=8.4423\n",
      "Epoch 4: train=6.9531, val=7.6556\n",
      "Epoch 5: train=5.8939, val=6.7138\n",
      "Epoch 6: train=4.4545, val=5.4809\n",
      "Epoch 7: train=4.0053, val=5.6778\n",
      "Epoch 8: train=3.9122, val=5.4958\n",
      "Epoch 9: train=3.6131, val=5.5625\n",
      "Epoch 10: train=3.4892, val=5.5456\n",
      "Epoch 11: train=3.2447, val=5.4240\n",
      "Epoch 12: train=3.2085, val=5.4205\n",
      "Epoch 13: train=3.2573, val=5.4511\n",
      "Epoch 14: train=3.1825, val=5.4618\n",
      "Epoch 15: train=3.2017, val=5.4196\n",
      "Epoch 16: train=3.0571, val=5.4241\n",
      "Epoch 17: train=3.0858, val=5.4258\n",
      "Epoch 18: train=3.0347, val=5.3579\n",
      "Epoch 19: train=3.0933, val=5.3956\n",
      "Epoch 20: train=3.0663, val=5.3753\n",
      "Epoch 21: train=3.1203, val=5.4089\n",
      "Epoch 22: train=3.0775, val=5.4412\n",
      "Epoch 23: train=3.1033, val=5.3948\n",
      "Early stopping\n"
     ]
    }
   ],
   "source": [
    "best_val = float('inf')\n",
    "patience = 5\n",
    "counter = 0\n",
    "train_hist, val_hist = [], []\n",
    "device = torch.device(\"cuda\" if torch.cuda.is_available() else \"cpu\")\n",
    "print(\"Using device:\", device)\n",
    "\n",
    "for epoch in range(1, 101):\n",
    "    train_loss = train_one_epoch(model, dataloader_train, criterion, optimizer, device)\n",
    "    val_loss = validate(model, dataloader_val, criterion, device)\n",
    "    train_hist.append(train_loss)\n",
    "    val_hist.append(val_loss)\n",
    "    scheduler.step()\n",
    "    print(f\"Epoch {epoch}: train={train_loss:.4f}, val={val_loss:.4f}\")\n",
    "    if val_loss < best_val:\n",
    "        best_val = val_loss\n",
    "        torch.save(model.state_dict(), 'best_model.pth')\n",
    "        counter = 0\n",
    "    else:\n",
    "        counter += 1\n",
    "        if counter >= patience:\n",
    "            print(\"Early stopping\")\n",
    "            break\n"
   ]
  },
  {
   "cell_type": "markdown",
   "id": "1e230218",
   "metadata": {},
   "source": [
    "## 8. Plot Training Curve\n",
    "\n",
    "Visualize the training and validation loss over epochs.\n",
    "\n",
    "---"
   ]
  },
  {
   "cell_type": "code",
   "execution_count": 8,
   "id": "15dfb3b7",
   "metadata": {},
   "outputs": [
    {
     "data": {
      "image/png": "[encoded data removed]",
      "text/plain": [
       "<Figure size 640x480 with 1 Axes>"
      ]
     },
     "metadata": {},
     "output_type": "display_data"
    }
   ],
   "source": [
    "plt.plot(train_hist, label='Train Loss')\n",
    "plt.plot(val_hist, label='Val Loss')\n",
    "plt.xlabel('Epoch')\n",
    "plt.ylabel('Loss')\n",
    "plt.legend()\n",
    "plt.show()\n"
   ]
  },
  {
   "cell_type": "markdown",
   "id": "ea700b80",
   "metadata": {},
   "source": [
    "## 9. Load Best Model and Make Predictions\n",
    "\n",
    "Restore the best model and generate predictions on the test set.\n",
    "\n",
    "---"
   ]
  },
  {
   "cell_type": "code",
   "execution_count": 9,
   "id": "478ef39b",
   "metadata": {},
   "outputs": [
    {
     "name": "stderr",
     "output_type": "stream",
     "text": [
      "C:\\Users\\kingk\\AppData\\Local\\Temp\\ipykernel_15744\\2886608309.py:1: FutureWarning: You are using `torch.load` with `weights_only=False` (the current default value), which uses the default pickle module implicitly. It is possible to construct malicious pickle data which will execute arbitrary code during unpickling (See https://github.com/pytorch/pytorch/blob/main/SECURITY.md#untrusted-models for more details). In a future release, the default value for `weights_only` will be flipped to `True`. This limits the functions that could be executed during unpickling. Arbitrary objects will no longer be allowed to be loaded via this mode unless they are explicitly allowlisted by the user via `torch.serialization.add_safe_globals`. We recommend you start setting `weights_only=True` for any use case where you don't have full control of the loaded file. Please open an issue on GitHub for any issues related to this experimental feature.\n",
      "  model.load_state_dict(torch.load('best_model.pth'))\n"
     ]
    }
   ],
   "source": [
    "model.load_state_dict(torch.load('best_model.pth'))\n",
    "model.eval()\n",
    "all_preds = []\n",
    "with torch.no_grad():\n",
    "    for X in dataloader_test:\n",
    "        X = X.to(device)\n",
    "        preds = model(X).cpu().numpy()\n",
    "        all_preds.append(preds)\n",
    "predictions = np.vstack(all_preds)\n",
    "predictions = np.clip(predictions, 0, 96)\n"
   ]
  },
  {
   "cell_type": "markdown",
   "id": "996ae70c",
   "metadata": {},
   "source": [
    "## 10. Visualize Sample Predictions\n",
    "\n",
    "Plot a few random images from the training set with predicted keypoints overlaid.\n",
    "\n",
    "---"
   ]
  },
  {
   "cell_type": "code",
   "execution_count": 10,
   "id": "2b93ef86",
   "metadata": {},
   "outputs": [
    {
     "data": {
      "image/png": "[encoded data removed]",
      "text/plain": [
       "<Figure size 640x480 with 1 Axes>"
      ]
     },
     "metadata": {},
     "output_type": "display_data"
    }
   ],
   "source": [
    "def show_keypoints(img, kps):\n",
    "    plt.imshow(img, cmap='gray')\n",
    "    plt.scatter(kps[0::2], kps[1::2], c='r')\n",
    "    plt.axis('off')\n",
    "\n",
    "# Show one batch from training\n",
    "Xb, yb = next(iter(dataloader_train))\n",
    "yb_pred = model(Xb.to(device)).detach().cpu().numpy()\n",
    "idx = np.random.randint(len(Xb))\n",
    "show_keypoints(Xb[idx][0].numpy(), yb_pred[idx])"
   ]
  },
  {
   "cell_type": "markdown",
   "id": "df0b2099",
   "metadata": {},
   "source": [
    "## 11. Prepare Submission File\n",
    "\n",
    "Use the `IdLookupTable.csv` to map each predicted keypoint to the required submission format and write out `submission.csv`.\n",
    "\n",
    "---"
   ]
  },
  {
   "cell_type": "code",
   "execution_count": 11,
   "id": "04a209fc",
   "metadata": {},
   "outputs": [
    {
     "name": "stdout",
     "output_type": "stream",
     "text": [
      "Saved submission.csv\n"
     ]
    }
   ],
   "source": [
    "submission_rows = []\n",
    "features = training_data.columns[:-1]\n",
    "for _, row in id_lookup_table.iterrows():\n",
    "    img_idx = int(row['ImageId']) - 1\n",
    "    feat = row['FeatureName']\n",
    "    feat_idx = list(features).index(feat)\n",
    "    val = predictions[img_idx, feat_idx]\n",
    "    submission_rows.append({\n",
    "        'RowId': row['RowId'],\n",
    "        'Location': val\n",
    "    })\n",
    "submission = pd.DataFrame(submission_rows)\n",
    "submission.to_csv('submission.csv', index=False)\n",
    "\n",
    "print(\"Saved submission.csv\")"
   ]
  }
 ],
 "metadata": {
  "kernelspec": {
   "display_name": "Python 3",
   "language": "python",
   "name": "python3"
  },
  "language_info": {
   "codemirror_mode": {
    "name": "ipython",
    "version": 3
   },
   "file_extension": ".py",
   "mimetype": "text/x-python",
   "name": "python",
   "nbconvert_exporter": "python",
   "pygments_lexer": "ipython3",
   "version": "3.11.9"
  }
 },
 "nbformat": 4,
 "nbformat_minor": 5
}
